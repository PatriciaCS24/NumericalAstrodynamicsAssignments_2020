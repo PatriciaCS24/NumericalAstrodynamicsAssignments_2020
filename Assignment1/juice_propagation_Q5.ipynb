{
 "cells": [
  {
   "cell_type": "markdown",
   "metadata": {
    "deletable": false,
    "editable": false
   },
   "source": [
    "# Assignment 1 - Propagation Settings"
   ]
  },
  {
   "cell_type": "code",
   "execution_count": 1,
   "metadata": {
    "deletable": false
   },
   "outputs": [],
   "source": [
    "''' \n",
    "Copyright (c) 2010-2020, Delft University of Technology\n",
    "All rigths reserved\n",
    "\n",
    "This file is part of the Tudat. Redistribution and use in source and \n",
    "binary forms, with or without modification, are permitted exclusively\n",
    "under the terms of the Modified BSD license. You should have received\n",
    "a copy of the license with this file. If not, please or visit:\n",
    "http://tudat.tudelft.nl/LICENSE.\n",
    "'''\n",
    "\n",
    "import numpy as np\n",
    "from tudatpy import elements\n",
    "from tudatpy.io import save2txt\n",
    "from tudatpy.kernel import constants\n",
    "from tudatpy.kernel.interface import spice_interface\n",
    "from tudatpy.kernel.simulation import environment_setup\n",
    "from tudatpy.kernel.simulation import propagation_setup\n",
    "from matplotlib import pyplot as plt"
   ]
  },
  {
   "cell_type": "code",
   "execution_count": 2,
   "metadata": {
    "deletable": false
   },
   "outputs": [],
   "source": [
    "# student number: 1244779 --> 1244ABC\n",
    "A = 7\n",
    "B = 2\n",
    "C = 6\n",
    "\n",
    "simulation_start_epoch = 33.15 * constants.JULIAN_YEAR + A * 7.0 * constants.JULIAN_DAY + \\\n",
    "                            B * constants.JULIAN_DAY + C * constants.JULIAN_DAY / 24.0\n",
    "simulation_end_epoch = simulation_start_epoch + 344.0 * constants.JULIAN_DAY / 24.0"
   ]
  },
  {
   "cell_type": "markdown",
   "metadata": {
    "deletable": false,
    "editable": false
   },
   "source": [
    "## Create Environment and Vehicle"
   ]
  },
  {
   "cell_type": "code",
   "execution_count": 3,
   "metadata": {
    "deletable": false
   },
   "outputs": [],
   "source": [
    "###########################################################################\n",
    "# CREATE ENVIRONMENT ######################################################\n",
    "###########################################################################\n",
    "\n",
    "# Load spice kernels.\n",
    "spice_interface.load_standard_kernels()\n",
    "\n",
    "# Create body objects.\n",
    "bodies_to_create = [\"Ganymede\",\"Sun\",\"Saturn\",\"Jupiter\",\"Io\",\"Callisto\",\"Europa\"]\n",
    "global_frame_origin = \"SSB\"\n",
    "global_frame_orientation = \"ECLIPJ2000\"\n",
    "body_settings = environment_setup.get_default_body_settings(\n",
    "    bodies_to_create, global_frame_origin, global_frame_orientation)    \n",
    "\n",
    "# Add Ganymede exponential atmosphere \n",
    "density_scale_height = 40.0E3\n",
    "density_at_zero_altitude = 2.0E-9\n",
    "body_settings.get( \"Ganymede\" ).atmosphere_settings = environment_setup.atmosphere.exponential( \n",
    "        density_scale_height, density_at_zero_altitude)\n",
    "\n",
    "bodies = environment_setup.create_system_of_bodies(body_settings)\n",
    "\n",
    "###########################################################################\n",
    "# CREATE VEHICLE ##########################################################\n",
    "###########################################################################\n",
    "\n",
    "# Create vehicle object\n",
    "bodies.create_empty_body( \"JUICE\" )\n",
    "\n",
    "# Set mass of vehicle\n",
    "bodies.get_body( \"JUICE\" ).set_constant_mass(2000.0)\n",
    "\n",
    "# Create aerodynamic coefficients interface\n",
    "reference_area = 100.0\n",
    "drag_coefficient = 1.2\n",
    "aero_coefficient_settings = environment_setup.aerodynamic_coefficients.constant(\n",
    "        reference_area,[drag_coefficient,0,0] )\n",
    "environment_setup.add_aerodynamic_coefficient_interface(\n",
    "        bodies, \"JUICE\", aero_coefficient_settings );"
   ]
  },
  {
   "cell_type": "markdown",
   "metadata": {
    "deletable": false,
    "editable": false
   },
   "source": [
    "## Propagate Dynamics for various cases"
   ]
  },
  {
   "cell_type": "code",
   "execution_count": null,
   "metadata": {},
   "outputs": [],
   "source": []
  },
  {
   "cell_type": "code",
   "execution_count": 4,
   "metadata": {
    "deletable": false
   },
   "outputs": [
    {
     "name": "stdout",
     "output_type": "stream",
     "text": [
      "\n",
      "    JUICE Propagation Results of case_i.\n",
      "\n",
      "    Final propagation time of JUICE [s]: 1051800840.0\n",
      "    Final Cartesian state of JUICE is [m]: \n",
      "[-1.61771319e+06 -3.90797302e+05  2.62530100e+06  1.27913693e+03\n",
      "  8.62539749e+02  9.07363322e+02]\n",
      "\n",
      "        \n",
      "\n",
      "    JUICE Propagation Results of case_ii.\n",
      "\n",
      "    Final propagation time of JUICE [s]: 1051800840.0\n",
      "    Final Cartesian state of JUICE is [m]: \n",
      "[-5.92677747e+09  3.02386563e+09 -8.91402746e+08 -4.89179115e+03\n",
      "  1.82296179e+03 -8.20949728e+02]\n",
      "\n",
      "        \n",
      "\n",
      "    JUICE Propagation Results of case_iii.\n",
      "\n",
      "    Final propagation time of JUICE [s]: 1051800840.0\n",
      "    Final Cartesian state of JUICE is [m]: \n",
      "[-2.52684000e+06 -1.28252770e+06  1.27036137e+06  5.08056542e+02\n",
      "  6.16008130e+02  1.60462826e+03]\n",
      "\n",
      "        \n",
      "\n",
      "    JUICE Propagation Results of case_iv.\n",
      "\n",
      "    Final propagation time of JUICE [s]: 1051800840.0\n",
      "    Final Cartesian state of JUICE is [m]: \n",
      "[ 7.16122765e+08  7.88088718e+08  4.25913815e+07 -7.54858980e+03\n",
      "  7.96210242e+03  1.75705793e+03]\n",
      "\n",
      "        \n"
     ]
    }
   ],
   "source": [
    "cases = ['case_i', 'case_ii', 'case_iii', 'case_iv']\n",
    "\n",
    "simulation_results_dict = dict()\n",
    "dependent_variables_dict = dict()\n",
    "for case in cases:    \n",
    "\n",
    "\n",
    "    ###########################################################################\n",
    "    # CREATE ENVIRONMENT ######################################################\n",
    "    ###########################################################################\n",
    "\n",
    "    # Load spice kernels.\n",
    "    spice_interface.load_standard_kernels()\n",
    "\n",
    "    # Create body objects.\n",
    "    bodies_to_create = [\"Ganymede\",\"Sun\",\"Saturn\",\"Jupiter\",\"Io\",\"Callisto\",\"Europa\"]\n",
    "    if case == 'case_i' or case == 'case_iii':\n",
    "        global_frame_origin = \"Ganymede\"\n",
    "    elif case == 'case_ii' or case == 'case_iv':\n",
    "        global_frame_origin = \"Jupiter\"\n",
    "    global_frame_orientation = \"ECLIPJ2000\"\n",
    "    body_settings = environment_setup.get_default_body_settings(\n",
    "        bodies_to_create, global_frame_origin, global_frame_orientation)    \n",
    "\n",
    "    # Add Ganymede exponential atmosphere \n",
    "    density_scale_height = 40.0E3\n",
    "    density_at_zero_altitude = 2.0E-9\n",
    "    body_settings.get( \"Ganymede\" ).atmosphere_settings = environment_setup.atmosphere.exponential( \n",
    "            density_scale_height, density_at_zero_altitude)\n",
    "\n",
    "    bodies = environment_setup.create_system_of_bodies(body_settings)\n",
    "\n",
    "    ###########################################################################\n",
    "    # CREATE VEHICLE ##########################################################\n",
    "    ###########################################################################\n",
    "\n",
    "    # Create vehicle object\n",
    "    bodies.create_empty_body( \"JUICE\" )\n",
    "\n",
    "    # Set mass of vehicle\n",
    "    bodies.get_body( \"JUICE\" ).set_constant_mass(2000.0)\n",
    "\n",
    "    # Create aerodynamic coefficients interface\n",
    "    reference_area = 100.0\n",
    "    drag_coefficient = 1.2\n",
    "    aero_coefficient_settings = environment_setup.aerodynamic_coefficients.constant(\n",
    "            reference_area,[drag_coefficient,0,0] )\n",
    "    environment_setup.add_aerodynamic_coefficient_interface(\n",
    "            bodies, \"JUICE\", aero_coefficient_settings )\n",
    "\n",
    "    reference_area_radiation = 100.0\n",
    "    radiation_pressure_coefficient = 1.2\n",
    "    occulting_bodies = [\"Ganymede\"]\n",
    "    radiation_pressure_settings = environment_setup.radiation_pressure.cannonball(\n",
    "        \"Sun\", reference_area_radiation, radiation_pressure_coefficient, occulting_bodies\n",
    "    )\n",
    "\n",
    "    environment_setup.add_radiation_pressure_interface(\n",
    "                bodies, \"JUICE\", radiation_pressure_settings )\n",
    "\n",
    "    ###########################################################################\n",
    "    # CREATE ACCELERATIONS ####################################################\n",
    "    ###########################################################################\n",
    "\n",
    "    # Define bodies that are propagated.\n",
    "    bodies_to_propagate = [\"JUICE\"]\n",
    "\n",
    "    # Define central bodies.\n",
    "    if case == 'case_i' or case == 'case_iii':\n",
    "        central_bodies = [\"Ganymede\"]\n",
    "    elif case == 'case_ii' or case == 'case_iv':\n",
    "        central_bodies = [\"Jupiter\"]\n",
    "\n",
    "    # Define accelerations acting on vehicle.\n",
    "    if case == 'case_i' or case == 'case_ii':\n",
    "        acceleration_settings_on_vehicle = dict(\n",
    "            Ganymede=\n",
    "            [\n",
    "                 propagation_setup.acceleration.point_mass_gravity()\n",
    "            ]\n",
    "        )\n",
    "    elif case == 'case_iii' or case == 'case_iv':\n",
    "        acceleration_settings_on_vehicle = dict(\n",
    "            Ganymede=\n",
    "            [\n",
    "                propagation_setup.acceleration.spherical_harmonic_gravity(2, 2),\n",
    "                propagation_setup.acceleration.aerodynamic()\n",
    "            ],\n",
    "            Jupiter=\n",
    "            [\n",
    "                propagation_setup.acceleration.spherical_harmonic_gravity(4,0)\n",
    "            ],\n",
    "            Sun=\n",
    "            [\n",
    "                propagation_setup.acceleration.cannonball_radiation_pressure(),\n",
    "                propagation_setup.acceleration.point_mass_gravity()\n",
    "            ],\n",
    "            Saturn=\n",
    "            [\n",
    "                propagation_setup.acceleration.point_mass_gravity()\n",
    "            ],\n",
    "            Io=\n",
    "            [\n",
    "                propagation_setup.acceleration.point_mass_gravity()\n",
    "            ],\n",
    "            Europa=\n",
    "            [\n",
    "                propagation_setup.acceleration.point_mass_gravity()\n",
    "            ],\n",
    "            Callisto=\n",
    "            [\n",
    "                propagation_setup.acceleration.point_mass_gravity()\n",
    "            ]\n",
    "\n",
    "        )\n",
    "\n",
    "    # Create global accelerations dictionary.\n",
    "    acceleration_settings = {\"JUICE\": acceleration_settings_on_vehicle}\n",
    "\n",
    "     # Create acceleration models.\n",
    "    acceleration_models = propagation_setup.create_acceleration_models(\n",
    "            bodies, acceleration_settings, bodies_to_propagate, central_bodies)\n",
    "    ###########################################################################\n",
    "    # CREATE PROPAGATION SETTINGS #############################################\n",
    "    ###########################################################################\n",
    "\n",
    "    # Define initial state.\n",
    "    if case == 'case_i' or case == 'case_iii':\n",
    "        system_initial_state = spice_interface.get_body_cartesian_state_at_epoch(\n",
    "            target_body_name=\"JUICE\",\n",
    "            observer_body_name=\"Ganymede\",\n",
    "            reference_frame_name=\"ECLIPJ2000\",\n",
    "            aberration_corrections=\"NONE\",\n",
    "            ephemeris_time= simulation_start_epoch )\n",
    "    elif case == 'case_ii' or case == 'case_iv':\n",
    "        system_initial_state = spice_interface.get_body_cartesian_state_at_epoch(\n",
    "            target_body_name=\"JUICE\",\n",
    "            observer_body_name=\"Jupiter\",\n",
    "            reference_frame_name=\"ECLIPJ2000\",\n",
    "            aberration_corrections=\"NONE\",\n",
    "            ephemeris_time= simulation_start_epoch )\n",
    "\n",
    "    # Save magnitude of perturbations for both cases\n",
    "    if case == 'case_i' or case == 'case_iii':\n",
    "        dependent_variables_to_save = [ ]\n",
    "    elif case == 'case_ii' or case == 'case_iv':\n",
    "        dependent_variables_to_save = [\n",
    "            propagation_setup.dependent_variable.relative_position( \"Jupiter\", \"Ganymede\" ),\n",
    "            propagation_setup.dependent_variable.altitude( \"JUICE\", \"Ganymede\" )\n",
    "        ]\n",
    "\n",
    "    # Create propagation settings.\n",
    "    propagator_settings = propagation_setup.propagator.translational(\n",
    "        central_bodies,\n",
    "        acceleration_models,\n",
    "        bodies_to_propagate,\n",
    "        system_initial_state,\n",
    "        simulation_end_epoch,\n",
    "        output_variables = dependent_variables_to_save\n",
    "    )\n",
    "\n",
    "    # Create numerical integrator settings.\n",
    "    fixed_step_size = 10.0\n",
    "    integrator_settings = propagation_setup.integrator.runge_kutta_4(\n",
    "        simulation_start_epoch,\n",
    "        fixed_step_size\n",
    "    )\n",
    "\n",
    "    ###########################################################################\n",
    "    # PROPAGATE ORBIT #########################################################\n",
    "    ###########################################################################\n",
    "\n",
    "    # Create simulation object and propagate dynamics.\n",
    "    dynamics_simulator = propagation_setup.SingleArcDynamicsSimulator(\n",
    "        bodies, integrator_settings, propagator_settings)\n",
    "    \n",
    "    simulation_results_dict[case] = dynamics_simulator.state_history\n",
    "    dependent_variables_dict[case] = dynamics_simulator.dependent_variable_history\n",
    "\n",
    "    ###########################################################################\n",
    "    # PRINT FINAL PROPAGATION TIME AND STATE ##################################\n",
    "    ###########################################################################\n",
    "\n",
    "    final_time_step=list(simulation_results_dict[case].keys())[-1]\n",
    "    first_time_step=list(simulation_results_dict[case].keys())[0]\n",
    "\n",
    "    print(\n",
    "        f\"\"\"\n",
    "    JUICE Propagation Results of {case}.\n",
    "\n",
    "    Final propagation time of JUICE [s]: {simulation_end_epoch}\n",
    "    Final Cartesian state of JUICE is [m]: \\n{\n",
    "        simulation_results_dict[case][final_time_step][:]}\n",
    "\n",
    "        \"\"\"\n",
    "    )\n",
    "    \n",
    "    ###########################################################################\n",
    "    # SAVE RESULTS ############################################################\n",
    "    ###########################################################################\n",
    "for case_idx, case in enumerate(cases):  \n",
    "    if case == 'case_ii' or case == 'case_iv':\n",
    "        \n",
    "        lines = ['\\n']*11 #There are a total of eleven lines that need to be written\n",
    "\n",
    "        q_n = 5\n",
    "\n",
    "        with open('cartesian_results_AE4868_2020_A1_5382726.txt','r') as f:\n",
    "            file_lines = f.readlines()\n",
    "\n",
    "        for i, file_line in enumerate(file_lines):\n",
    "            lines[i] = file_line\n",
    "\n",
    "        line = f'{simulation_end_epoch}'\n",
    "        to_save = list(np.array(simulation_results_dict[case][final_time_step][:])) + list(np.array(dependent_variables_dict[case][final_time_step][:6]))\n",
    "        for item in to_save:\n",
    "            line = ' '.join((line,str(item)))\n",
    "        line += '\\n'\n",
    "\n",
    "        lines[q_n+case_idx//2] = line\n",
    "        with open('cartesian_results_AE4868_2020_A1_5382726.txt','w') as f:\n",
    "            f.writelines(lines) \n"
   ]
  },
  {
   "cell_type": "markdown",
   "metadata": {
    "deletable": false,
    "editable": false
   },
   "source": [
    "## Pre-process Results"
   ]
  },
  {
   "cell_type": "code",
   "execution_count": 5,
   "metadata": {
    "deletable": false
   },
   "outputs": [
    {
     "name": "stderr",
     "output_type": "stream",
     "text": [
      "<ipython-input-5-57a670d5d4f9>:2: FutureWarning: arrays to stack must be passed as a \"sequence\" type such as list or tuple. Support for non-sequence iterables such as generators is deprecated as of NumPy 1.16 and will raise an error in the future.\n",
      "  time = np.vstack(simulation_result_case_i.keys())\n"
     ]
    }
   ],
   "source": [
    "simulation_result_case_i = simulation_results_dict[ 'case_i']\n",
    "time = np.vstack(simulation_result_case_i.keys())\n",
    "r_case_case_i = np.vstack(list(simulation_result_case_i.values()))[:,0:3]\n",
    "\n",
    "simulation_result_case_ii = simulation_results_dict[ 'case_ii' ]\n",
    "r_case_case_ii = np.vstack(list(simulation_result_case_ii.values()))[:,0:3]\n",
    "\n",
    "simulation_result_case_iii = simulation_results_dict[ 'case_iii' ]\n",
    "r_case_case_iii = np.vstack(list(simulation_result_case_iii.values()))[:,0:3]\n",
    "\n",
    "simulation_result_case_iv = simulation_results_dict[ 'case_iv' ]\n",
    "r_case_case_iv = np.vstack(list(simulation_result_case_iv.values()))[:,0:3]\n",
    "\n",
    "dependent_variables_case_ii = dependent_variables_dict[ 'case_ii' ]\n",
    "x_GJ_2_5 = np.vstack(list(dependent_variables_case_ii.values()))[:,0:3]\n",
    "dependent_variables_case_iv = dependent_variables_dict[ 'case_iv' ]\n",
    "x_GJ_3_5 = np.vstack(list(dependent_variables_case_iv.values()))[:,0:3]\n",
    "\n",
    "x_case_ii = (r_case_case_ii + x_GJ_2_5)\n",
    "x_case_iv = (r_case_case_iv + x_GJ_3_5)\n",
    "difference_in_cartesian_position_i  = np.linalg.norm(r_case_case_i - x_case_ii,axis=1)\n",
    "difference_in_cartesian_position_iii = np.linalg.norm(r_case_case_iii - x_case_iv,axis=1)\n",
    "h_case_ii = np.vstack(list(dependent_variables_case_ii.values()))[:,3]\n",
    "h_case_iv = np.vstack(list(dependent_variables_case_iv.values()))[:,3]\n",
    "\n",
    "\n"
   ]
  },
  {
   "cell_type": "markdown",
   "metadata": {
    "deletable": false,
    "editable": false
   },
   "source": [
    "## Plot Results"
   ]
  },
  {
   "cell_type": "code",
   "execution_count": 6,
   "metadata": {},
   "outputs": [
    {
     "data": {
      "image/png": "[encoded data removed]",
      "text/plain": [
       "<Figure size 432x288 with 1 Axes>"
      ]
     },
     "metadata": {
      "needs_background": "light"
     },
     "output_type": "display_data"
    }
   ],
   "source": [
    "time_days = [ t / constants.JULIAN_DAY - simulation_start_epoch / constants.JULIAN_DAY for t in time ]\n",
    "plt.plot(time_days,  difference_in_cartesian_position_i, label = r'$\\|\\nabla r\\|_{i,ii}$')\n",
    "plt.plot(time_days, difference_in_cartesian_position_iii, label = r'$\\|\\nabla r\\|_{iii,iv}$')\n",
    "plt.semilogy()\n",
    "plt.xlabel('Time [day]')\n",
    "plt.ylabel(r'$\\Delta r [m]$')\n",
    "plt.legend()\n",
    "plt.savefig( fname = 'figures/question5')\n",
    "plt.show()"
   ]
  },
  {
   "cell_type": "code",
   "execution_count": 7,
   "metadata": {},
   "outputs": [
    {
     "data": {
      "image/png": "[encoded data removed]",
      "text/plain": [
       "<Figure size 432x288 with 1 Axes>"
      ]
     },
     "metadata": {
      "needs_background": "light"
     },
     "output_type": "display_data"
    }
   ],
   "source": [
    "plt.plot(time_days, h_case_ii)\n",
    "plt.show()"
   ]
  },
  {
   "cell_type": "code",
   "execution_count": null,
   "metadata": {},
   "outputs": [],
   "source": []
  }
 ],
 "metadata": {
  "celltoolbar": "Edit Metadata",
  "kernelspec": {
   "display_name": "Python 3",
   "language": "python",
   "name": "python3"
  },
  "language_info": {
   "codemirror_mode": {
    "name": "ipython",
    "version": 3
   },
   "file_extension": ".py",
   "mimetype": "text/x-python",
   "name": "python",
   "nbconvert_exporter": "python",
   "pygments_lexer": "ipython3",
   "version": "3.8.6"
  }
 },
 "nbformat": 4,
 "nbformat_minor": 4
}
